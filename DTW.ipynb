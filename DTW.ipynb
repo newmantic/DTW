{
  "nbformat": 4,
  "nbformat_minor": 0,
  "metadata": {
    "colab": {
      "provenance": [],
      "authorship_tag": "ABX9TyNzQqHywfqnn1lA+VWKBVAC",
      "include_colab_link": true
    },
    "kernelspec": {
      "name": "python3",
      "display_name": "Python 3"
    },
    "language_info": {
      "name": "python"
    }
  },
  "cells": [
    {
      "cell_type": "markdown",
      "metadata": {
        "id": "view-in-github",
        "colab_type": "text"
      },
      "source": [
        "<a href=\"https://colab.research.google.com/github/newmantic/DTW/blob/main/DTW.ipynb\" target=\"_parent\"><img src=\"https://colab.research.google.com/assets/colab-badge.svg\" alt=\"Open In Colab\"/></a>"
      ]
    },
    {
      "cell_type": "code",
      "execution_count": 1,
      "metadata": {
        "id": "2xuB_2535Fu_"
      },
      "outputs": [],
      "source": [
        "import numpy as np\n",
        "\n",
        "def dtw(x, y):\n",
        "    \"\"\"\n",
        "    Compute the Dynamic Time Warping (DTW) distance between two sequences.\n",
        "\n",
        "    :param x: First sequence (1D numpy array).\n",
        "    :param y: Second sequence (1D numpy array).\n",
        "    :return: The DTW distance between sequences x and y.\n",
        "    \"\"\"\n",
        "    n = len(x)\n",
        "    m = len(y)\n",
        "    dtw_matrix = np.zeros((n+1, m+1))\n",
        "\n",
        "    # Initialize the DTW matrix\n",
        "    dtw_matrix[0, :] = np.inf\n",
        "    dtw_matrix[:, 0] = np.inf\n",
        "    dtw_matrix[0, 0] = 0\n",
        "\n",
        "    # Compute the DTW cost matrix\n",
        "    for i in range(1, n+1):\n",
        "        for j in range(1, m+1):\n",
        "            cost = abs(x[i-1] - y[j-1])\n",
        "            dtw_matrix[i, j] = cost + min(dtw_matrix[i-1, j],    # Insertion\n",
        "                                          dtw_matrix[i, j-1],    # Deletion\n",
        "                                          dtw_matrix[i-1, j-1])  # Match\n",
        "\n",
        "    # The DTW distance is in the bottom-right cell\n",
        "    return dtw_matrix[n, m]\n",
        "\n",
        "def dtw_path(x, y):\n",
        "    \"\"\"\n",
        "    Compute the Dynamic Time Warping (DTW) distance and the optimal path between two sequences.\n",
        "\n",
        "    :param x: First sequence (1D numpy array).\n",
        "    :param y: Second sequence (1D numpy array).\n",
        "    :return: The DTW distance and the optimal warping path.\n",
        "    \"\"\"\n",
        "    n = len(x)\n",
        "    m = len(y)\n",
        "    dtw_matrix = np.zeros((n+1, m+1))\n",
        "\n",
        "    # Initialize the DTW matrix\n",
        "    dtw_matrix[0, :] = np.inf\n",
        "    dtw_matrix[:, 0] = np.inf\n",
        "    dtw_matrix[0, 0] = 0\n",
        "\n",
        "    # Compute the DTW cost matrix\n",
        "    for i in range(1, n+1):\n",
        "        for j in range(1, m+1):\n",
        "            cost = abs(x[i-1] - y[j-1])\n",
        "            dtw_matrix[i, j] = cost + min(dtw_matrix[i-1, j],    # Insertion\n",
        "                                          dtw_matrix[i, j-1],    # Deletion\n",
        "                                          dtw_matrix[i-1, j-1])  # Match\n",
        "\n",
        "    # Backtrack to find the optimal warping path\n",
        "    path = []\n",
        "    i, j = n, m\n",
        "    while i > 0 or j > 0:\n",
        "        path.append((i-1, j-1))\n",
        "        steps = [dtw_matrix[i-1, j], dtw_matrix[i, j-1], dtw_matrix[i-1, j-1]]\n",
        "        min_step = np.argmin(steps)\n",
        "        if min_step == 0:\n",
        "            i -= 1\n",
        "        elif min_step == 1:\n",
        "            j -= 1\n",
        "        else:\n",
        "            i -= 1\n",
        "            j -= 1\n",
        "\n",
        "    path.reverse()\n",
        "    return dtw_matrix[n, m], path"
      ]
    },
    {
      "cell_type": "code",
      "source": [
        "def test_case_1():\n",
        "    x = np.array([1, 2, 3, 4, 5])\n",
        "    y = np.array([2, 3, 4, 5, 6])\n",
        "\n",
        "    distance = dtw(x, y)\n",
        "    print(f\"DTW distance: {distance}\")\n",
        "\n",
        "    distance, path = dtw_path(x, y)\n",
        "    print(f\"DTW distance: {distance}\")\n",
        "    print(f\"Optimal path: {path}\")\n",
        "    # Expected: DTW distance should be close to 1, and the path should align each element sequentially.\n",
        "\n",
        "test_case_1()"
      ],
      "metadata": {
        "colab": {
          "base_uri": "https://localhost:8080/"
        },
        "id": "1XNxqyLu5kyD",
        "outputId": "c480aa02-fae8-44dc-b7de-1e56f94ba355"
      },
      "execution_count": 2,
      "outputs": [
        {
          "output_type": "stream",
          "name": "stdout",
          "text": [
            "DTW distance: 2.0\n",
            "DTW distance: 2.0\n",
            "Optimal path: [(0, 0), (1, 0), (2, 1), (3, 2), (4, 3), (4, 4)]\n"
          ]
        }
      ]
    },
    {
      "cell_type": "code",
      "source": [
        "def test_case_2():\n",
        "    x = np.array([1, 3, 4, 9, 8, 2])\n",
        "    y = np.array([1, 4, 7, 2])\n",
        "\n",
        "    distance = dtw(x, y)\n",
        "    print(f\"DTW distance: {distance}\")\n",
        "\n",
        "    distance, path = dtw_path(x, y)\n",
        "    print(f\"DTW distance: {distance}\")\n",
        "    print(f\"Optimal path: {path}\")\n",
        "    # Expected: DTW distance should account for the differences in lengths, with an appropriate warping path.\n"
      ],
      "metadata": {
        "id": "qmoKsvn35oWb"
      },
      "execution_count": 3,
      "outputs": []
    },
    {
      "cell_type": "code",
      "source": [
        "def test_case_3():\n",
        "    t = np.linspace(0, 1, 100)\n",
        "    x = np.sin(2 * np.pi * t)\n",
        "    y = np.sin(2 * np.pi * (t - 0.1))  # Shifted version\n",
        "\n",
        "    distance = dtw(x, y)\n",
        "    print(f\"DTW distance: {distance}\")\n",
        "\n",
        "    distance, path = dtw_path(x, y)\n",
        "    print(f\"DTW distance: {distance}\")\n",
        "    print(f\"Optimal path: {path}\")\n",
        "    # Expected: DTW distance should be low, reflecting the small shift between the signals.\n",
        "\n",
        "test_case_3()"
      ],
      "metadata": {
        "colab": {
          "base_uri": "https://localhost:8080/"
        },
        "id": "h6KQczY75qt3",
        "outputId": "61dcf39c-3368-499e-a856-c902740112df"
      },
      "execution_count": 4,
      "outputs": [
        {
          "output_type": "stream",
          "name": "stdout",
          "text": [
            "DTW distance: 6.758456629839378\n",
            "DTW distance: 6.758456629839378\n",
            "Optimal path: [(0, 0), (0, 1), (0, 2), (0, 3), (0, 4), (0, 5), (0, 6), (0, 7), (0, 8), (0, 9), (0, 10), (1, 11), (2, 12), (3, 13), (4, 14), (5, 15), (6, 16), (7, 17), (8, 18), (9, 19), (10, 20), (11, 21), (12, 22), (13, 23), (14, 24), (15, 25), (16, 26), (17, 27), (18, 28), (19, 29), (20, 30), (21, 31), (22, 32), (23, 33), (24, 34), (25, 35), (26, 36), (27, 37), (28, 38), (29, 39), (30, 40), (31, 41), (32, 42), (33, 43), (34, 44), (35, 45), (36, 46), (37, 47), (38, 48), (39, 49), (40, 50), (41, 51), (42, 52), (43, 53), (44, 54), (45, 55), (46, 56), (47, 57), (48, 58), (49, 59), (50, 60), (51, 61), (52, 62), (53, 63), (54, 64), (55, 65), (56, 66), (57, 67), (58, 68), (59, 69), (60, 70), (61, 71), (62, 72), (63, 73), (64, 74), (65, 75), (66, 76), (67, 77), (68, 78), (69, 79), (70, 80), (71, 81), (72, 82), (73, 83), (74, 84), (75, 85), (76, 86), (77, 87), (78, 88), (79, 89), (80, 90), (81, 91), (82, 92), (83, 93), (84, 94), (85, 95), (86, 96), (87, 97), (88, 98), (89, 99), (90, 99), (91, 99), (92, 99), (93, 99), (94, 99), (95, 99), (96, 99), (97, 99), (98, 99), (99, 99)]\n"
          ]
        }
      ]
    },
    {
      "cell_type": "code",
      "source": [
        "def test_case_4():\n",
        "    x = np.array([0, 1, 2, 3, 4, 5])\n",
        "    y = np.array([0, 1, 2, 3, 4, 5])\n",
        "\n",
        "    distance = dtw(x, y)\n",
        "    print(f\"DTW distance: {distance}\")\n",
        "\n",
        "    distance, path = dtw_path(x, y)\n",
        "    print(f\"DTW distance: {distance}\")\n",
        "    print(f\"Optimal path: {path}\")\n",
        "    # Expected: DTW distance should be 0, and the path should align each element perfectly.\n",
        "\n",
        "test_case_4()"
      ],
      "metadata": {
        "colab": {
          "base_uri": "https://localhost:8080/"
        },
        "id": "7BGsv5iT5tbx",
        "outputId": "aff94f21-621a-45a0-e4bc-6bd298ca20de"
      },
      "execution_count": 5,
      "outputs": [
        {
          "output_type": "stream",
          "name": "stdout",
          "text": [
            "DTW distance: 0.0\n",
            "DTW distance: 0.0\n",
            "Optimal path: [(0, 0), (1, 1), (2, 2), (3, 3), (4, 4), (5, 5)]\n"
          ]
        }
      ]
    },
    {
      "cell_type": "code",
      "source": [
        "def test_case_5():\n",
        "    x = np.array([1, 3, 4, 2, 1])\n",
        "    y = np.array([1, 2, 4, 3, 1])\n",
        "\n",
        "    distance = dtw(x, y)\n",
        "    print(f\"DTW distance: {distance}\")\n",
        "\n",
        "    distance, path = dtw_path(x, y)\n",
        "    print(f\"DTW distance: {distance}\")\n",
        "    print(f\"Optimal path: {path}\")\n",
        "    # Expected: DTW distance should reflect the non-linear differences between the sequences.\n",
        "\n",
        "test_case_5()"
      ],
      "metadata": {
        "colab": {
          "base_uri": "https://localhost:8080/"
        },
        "id": "bZLhc2QY5wOn",
        "outputId": "3687ee43-c203-4327-c849-ef1a4eecfd53"
      },
      "execution_count": 6,
      "outputs": [
        {
          "output_type": "stream",
          "name": "stdout",
          "text": [
            "DTW distance: 2.0\n",
            "DTW distance: 2.0\n",
            "Optimal path: [(0, 0), (1, 1), (2, 2), (3, 3), (4, 4)]\n"
          ]
        }
      ]
    }
  ]
}